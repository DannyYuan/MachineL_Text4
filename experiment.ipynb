{
 "cells": [
  {
   "cell_type": "code",
   "execution_count": 53,
   "metadata": {
    "collapsed": false
   },
   "outputs": [
    {
     "name": "stdout",
     "output_type": "stream",
     "text": [
      "123.test\n",
      "1\n",
      "6\n",
      "5\n",
      "887431973\n",
      "\n",
      "1.0\n",
      "1.0\n"
     ]
    }
   ],
   "source": [
    "\n",
    "#获取数据\n",
    "def get_data():\n",
    "    f = open(\"123.test\")\n",
    "    print (f.name)\n",
    "    line = f.readline()\n",
    "    \n",
    "    arr = []\n",
    "    ie=line.split('\\t');\n",
    "    for item in ie:\n",
    "        print (item)\n",
    "    for num in range(1,3):\n",
    "        fe=float(ie[0])\n",
    "        arr.append(fe)\n",
    "    for item in arr:\n",
    "        print (item)\n",
    "\n",
    "    #print (line)\n",
    "    f.close()\n",
    "    return \n",
    "\n",
    "get_data()\n",
    "    "
   ]
  },
  {
   "cell_type": "code",
   "execution_count": null,
   "metadata": {
    "collapsed": true
   },
   "outputs": [],
   "source": [
    "def get_Data():\n",
    "    f = open(\"123.test\")\n",
    "    \n",
    "    datamat=[]\n",
    "    \n",
    "    for numi in range(0,9):#矩阵行数修改\n",
    "        nLine=[]\n",
    "        for num in range(0,50):#矩阵列数修改\n",
    "            nLine.append(0)\n",
    "        for numj in range(0,50):\n",
    "            line = f.readline()\n",
    "            ie=line.split('\\t');\n",
    "            ie1=int(ie[0])\n",
    "            ie2=int(ie[1])\n",
    "            ie3=int(ie[2])\n",
    "            if ie1==1:\n",
    "                nLine[ie2]=ie3\n",
    "        datamat.append(nLine)\n",
    "            \n",
    "    return datamat\n",
    "\n",
    "datamat=getData()\n",
    "#for item in datamat:\n",
    "    #print (item)"
   ]
  },
  {
   "cell_type": "code",
   "execution_count": 75,
   "metadata": {
    "collapsed": false
   },
   "outputs": [],
   "source": [
    "def getData(path):\n",
    "    #f = open(\"u1.test\")\n",
    "    \n",
    "    datamat=[]\n",
    "    \n",
    "    for numi in range(1,463):#矩阵行数修改\n",
    "        nLine=[]\n",
    "        for num in range(0,1681):#矩阵列数修改\n",
    "            nLine.append(0)\n",
    "        f = open(path)\n",
    "        for line in f.readlines():\n",
    "            #line = f.readline()\n",
    "            ie=line.split('\\t');\n",
    "            ie1=float(ie[0])\n",
    "            ie2=float(ie[1])\n",
    "            ie3=float(ie[2])\n",
    "            if int(ie1)==numi:\n",
    "                #print (ie1)\n",
    "                nLine[int(ie2)-1]=int(ie3)\n",
    "        datamat.append(nLine)\n",
    "            \n",
    "    return datamat\n",
    "\n",
    "#datamat=getData()\n",
    "#for item in datamat:\n",
    "    #print (item)\n",
    "    "
   ]
  },
  {
   "cell_type": "code",
   "execution_count": null,
   "metadata": {
    "collapsed": false
   },
   "outputs": [],
   "source": [
    "from numpy import *\n",
    "from pylab import *\n",
    "\n",
    "def gradAscent(data, K):\n",
    "    dataMat = mat(data)\n",
    "    print (dataMat)\n",
    "    m, n = shape(dataMat)\n",
    "    p = mat(random.random((m, K)))\n",
    "    q = mat(random.random((K, n)))\n",
    "\n",
    "    alpha = 0.0002\n",
    "    beta = 0.02\n",
    "    maxCycles = 10000\n",
    "\n",
    "    for step in range(maxCycles):\n",
    "        for i in range(m):\n",
    "            for j in range(n):\n",
    "                if dataMat[i,j] > 0:\n",
    "                    #print dataMat[i,j]\n",
    "                    error = dataMat[i,j]\n",
    "                    for k in range(K):\n",
    "                        error = error - p[i,k]*q[k,j]\n",
    "                    for k in range(K):\n",
    "                        p[i,k] = p[i,k] + alpha * (2 * error * q[k,j] - beta * p[i,k])\n",
    "                        q[k,j] = q[k,j] + alpha * (2 * error * p[i,k] - beta * q[k,j])\n",
    "\n",
    "        loss = 0.0\n",
    "        for i in range(m):\n",
    "            for j in range(n):\n",
    "                if dataMat[i,j] > 0:\n",
    "                    error = 0.0\n",
    "                    for k in range(K):\n",
    "                        error = error + p[i,k]*q[k,j]\n",
    "                    loss = (dataMat[i,j] - error) * (dataMat[i,j] - error)\n",
    "                    for k in range(K):\n",
    "                        loss = loss + beta * (p[i,k] * p[i,k] + q[k,j] * q[k,j]) / 2\n",
    "\n",
    "        if loss < 0.001:\n",
    "            break\n",
    "        #print step\n",
    "        if step % 1000 == 0:\n",
    "            print (loss)\n",
    "\n",
    "    return p, q\n",
    "\n",
    "if __name__ == \"__main__\":\n",
    "    dataMatrix = getData(\"u1.base\")\n",
    "\n",
    "    p, q = gradAscent(dataMatrix, 5)\n",
    "    '''\n",
    "    p = mat(ones((4,10)))\n",
    "    print p\n",
    "    q = mat(ones((10,5)))\n",
    "    '''\n",
    "    result = p * q\n",
    "    #print p\n",
    "    #print q\n",
    "\n",
    "    #print (result)\n",
    "n = len(result)\n",
    "x = range(n)\n",
    "plot(x, result, color='r',linewidth=3)\n",
    "plt.title('Convergence curve')\n",
    "plt.xlabel('generation')\n",
    "plt.ylabel('loss')\n",
    "show()"
   ]
  },
  {
   "cell_type": "code",
   "execution_count": null,
   "metadata": {
    "collapsed": true
   },
   "outputs": [],
   "source": []
  }
 ],
 "metadata": {
  "anaconda-cloud": {},
  "kernelspec": {
   "display_name": "Python [default]",
   "language": "python",
   "name": "python3"
  },
  "language_info": {
   "codemirror_mode": {
    "name": "ipython",
    "version": 3
   },
   "file_extension": ".py",
   "mimetype": "text/x-python",
   "name": "python",
   "nbconvert_exporter": "python",
   "pygments_lexer": "ipython3",
   "version": "3.5.2"
  }
 },
 "nbformat": 4,
 "nbformat_minor": 1
}
